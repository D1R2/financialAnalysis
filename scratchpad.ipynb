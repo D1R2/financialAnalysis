{
 "cells": [
  {
   "cell_type": "code",
   "execution_count": 2,
   "metadata": {
    "collapsed": true
   },
   "outputs": [
    {
     "name": "stdout",
     "output_type": "stream",
     "text": [
      "   one  two\n0    1    1\n1    2    2\n2    3    3\n   one  two  three\n0    1    1      1\n1    2    2      2\n2    3    3      3\n   one  two  three\n0    1    1      1\n1    2    2      2\n2    3    3      3\n   one  two  three\n0    1    1      1\n1    2    2      2\n2    3    3      3\n   one  two  three  four\n0    1    1      1     1\n1    2    2      2     2\n2    3    3      3     3\n"
     ]
    }
   ],
   "source": [
    "import pandas as pd\n",
    "\n",
    "df = pd.DataFrame()\n",
    "one = [1, 2, 3]\n",
    "two = ['one', 'two']\n",
    "\n",
    "for x in two: \n",
    "    df[x] = one\n",
    "print(df)\n",
    "\n",
    "dftwo = df\n",
    "\n",
    "dftwo['three'] = one\n",
    "\n",
    "print(df)\n",
    "print(dftwo)\n",
    "\n",
    "dfthree = dftwo.copy()\n",
    "\n",
    "dfthree['four'] = one\n",
    "\n",
    "print(dftwo)\n",
    "print(dfthree)"
   ]
  },
  {
   "cell_type": "code",
   "execution_count": 15,
   "metadata": {},
   "outputs": [
    {
     "name": "stdout",
     "output_type": "stream",
     "text": [
      "['3/14/2017', '12:34:04', 'SOLD -10 VERTICAL SPX 100 (Weeklys) 20 MAR 17 2315/2305 PUT @.50 CBOE', '-15.5', '500']\n['3/14/2017', '12:39:47', 'SOLD -10 VERTICAL SPX 100 (Weeklys) 20 MAR 17 2395/2405 CALL @.70 CBOE', '-15.5', '700']\n['3/14/2017', '15:21:57', 'BOT +10 VERTICAL SPX 100 (Weeklys) 20 MAR 17 2315/2305 PUT @.40', '-15.5', '-400']\n['3/14/2017', '15:29:45', 'BOT +5 1/2 BACKRATIO SPX 100 (Weeklys) 20 MAR 17 2365/2380 CALL @-2.25 CBOE', '-11.63', '1,125.00']\n['']\n"
     ]
    }
   ],
   "source": [
    "s = '''3/14/2017\t12:34:04\tSOLD -10 VERTICAL SPX 100 (Weeklys) 20 MAR 17 2315/2305 PUT @.50 CBOE\t-15.5\t500\n",
    "3/14/2017\t12:39:47\tSOLD -10 VERTICAL SPX 100 (Weeklys) 20 MAR 17 2395/2405 CALL @.70 CBOE\t-15.5\t700\n",
    "3/14/2017\t15:21:57\tBOT +10 VERTICAL SPX 100 (Weeklys) 20 MAR 17 2315/2305 PUT @.40\t-15.5\t-400\n",
    "3/14/2017\t15:29:45\tBOT +5 1/2 BACKRATIO SPX 100 (Weeklys) 20 MAR 17 2365/2380 CALL @-2.25 CBOE\t-11.63\t1,125.00\n",
    "'''\n",
    "s = s.split('\\n')\n",
    "\n",
    "for x in s: \n",
    "    x = x.split('\\t')\n",
    "    print(x)"
   ]
  },
  {
   "cell_type": "code",
   "execution_count": null,
   "metadata": {},
   "outputs": [],
   "source": [
    ""
   ]
  }
 ],
 "metadata": {
  "kernelspec": {
   "display_name": "Python 2",
   "language": "python",
   "name": "python2"
  },
  "language_info": {
   "codemirror_mode": {
    "name": "ipython",
    "version": 2.0
   },
   "file_extension": ".py",
   "mimetype": "text/x-python",
   "name": "python",
   "nbconvert_exporter": "python",
   "pygments_lexer": "ipython2",
   "version": "2.7.6"
  }
 },
 "nbformat": 4,
 "nbformat_minor": 0
}