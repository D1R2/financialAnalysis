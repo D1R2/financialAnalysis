{
 "cells": [
  {
   "cell_type": "code",
   "execution_count": 1,
   "metadata": {},
   "outputs": [
    {
     "ename": "SyntaxError",
     "evalue": "invalid syntax (<ipython-input-1-bf616de3e050>, line 5)",
     "output_type": "error",
     "traceback": [
      "\u001b[1;36m  File \u001b[1;32m\"<ipython-input-1-bf616de3e050>\"\u001b[1;36m, line \u001b[1;32m5\u001b[0m\n\u001b[1;33m    def manualInputs(trader, tradeType, tickers, subtypes)\u001b[0m\n\u001b[1;37m                                                          ^\u001b[0m\n\u001b[1;31mSyntaxError\u001b[0m\u001b[1;31m:\u001b[0m invalid syntax\n"
     ]
    }
   ],
   "source": [
    "#Master Block\n",
    "import pandas as pd\n",
    "\n",
    "class trade: \n",
    "    legList = []\n",
    "    trader  = 'None'\n",
    "    tradeType = 'None'\n",
    "    tickers = 'None'\n",
    "    subtypes = 'None'\n",
    "    dateOpen = 'none'\n",
    "    dateClose = 'none' \n",
    "    timeOpen = 'none'\n",
    "    timeClose = 'none'\n",
    "    feesAndCommission = 'none'\n",
    "    grossProfit = 'none'\n",
    "    netProfit = 'none'\n",
    "    \n",
    "    \n",
    "    string = \"\"\"\"\"\"\n",
    "    def manualInputs(trader, tradeType, tickers, subtypes):\n",
    "        trader = trader\n",
    "        tradeType = tradeType\n",
    "        tickers = tickers\n",
    "        subtypes = subtypes\n",
    "        returnVars = [trader, tradeType, tickers, subtypes]\n",
    "        return returnVars\n",
    "    def addLegs(string)\n",
    "        lineSplit = string.split('\\n')\n",
    "        if lineSplit[-1] == \"\":\n",
    "            lineSplit = lineSplit[:-1]\n",
    "\n",
    "        for x in lineSplit:\n",
    "            tabSplit = x.split('\\t')\n",
    "            legList.append(tabSplit)\n",
    "        \n",
    "  \n"
   ]
  },
  {
   "cell_type": "code",
   "execution_count": 1,
   "metadata": {
    "collapsed": true
   },
   "outputs": [],
   "source": [
    "import sqlite3 \n",
    "import pandas as pd\n",
    "\n",
    "def close(self):\n",
    "    df = pd.DataFrame(legList)\n",
    "    db_conn = sqlite3.connect('fullTradesTest.db')\n",
    "    cursor = db_conn.cursor\n",
    "    \n",
    "    \n",
    "    db_conn.close\n",
    "\n"
   ]
  },
  {
   "cell_type": "code",
   "execution_count": 6,
   "metadata": {},
   "outputs": [
    {
     "name": "stdout",
     "output_type": "stream",
     "text": [
      "   0  1  2     3      4     5\n",
      "0  1  2  3  None   None  None\n",
      "1  4  5  6  None   None  None\n",
      "2  0  0  0    hi  there  poro\n"
     ]
    }
   ],
   "source": [
    "list1 = [1, 2, 3]\n",
    "list2 = [4, 5, 6]\n",
    "list4 = [0, 0, 0, 'hi', 'there', 'poro']\n",
    "list3 = [list1, list2, list4]\n",
    "df = pd.DataFrame(list3)\n",
    "print(df)"
   ]
  },
  {
   "cell_type": "code",
   "execution_count": 43,
   "metadata": {},
   "outputs": [
    {
     "name": "stdout",
     "output_type": "stream",
     "text": [
      "3.6666666666666665\n"
     ]
    }
   ],
   "source": [
    "import pandas as pd\n",
    "\n",
    "\n",
    "l1 = [1, 2, 3]\n",
    "l2 = [6, 2, 3]\n",
    "l3 = [3, 4, 5]\n",
    "lists = [l1, l2, l3]\n",
    "df = pd.DataFrame(lists, columns = ['One', 'Two', 'Three'])\n",
    "\n",
    "\n",
    "test= df['Three'].mean()\n",
    "print(test)"
   ]
  },
  {
   "cell_type": "code",
   "execution_count": 37,
   "metadata": {},
   "outputs": [
    {
     "ename": "SyntaxError",
     "evalue": "invalid syntax (<ipython-input-37-c07c340b331f>, line 33)",
     "output_type": "error",
     "traceback": [
      "\u001b[1;36m  File \u001b[1;32m\"<ipython-input-37-c07c340b331f>\"\u001b[1;36m, line \u001b[1;32m33\u001b[0m\n\u001b[1;33m    tradeCount = tradeCount + 1\u001b[0m\n\u001b[1;37m             ^\u001b[0m\n\u001b[1;31mSyntaxError\u001b[0m\u001b[1;31m:\u001b[0m invalid syntax\n"
     ]
    }
   ],
   "source": [
    "import pandas as pd\n",
    "#Need to change order of columns in the 'Clean Data' portion of the module. \n",
    "\n",
    "filepath = r\"C:\\Users\\David\\Desktop\\gitHome\\trading\\tradelistcsv.csv\"\n",
    "tradeList = pd.DataFrame(filepath)\n",
    "\n",
    "tradeLines = []\n",
    "thisTrade = []\n",
    "transactions = []\n",
    "\n",
    "tradeCount = 0\n",
    "\n",
    "for x in len(tradeList):\n",
    "    if df['Status'].iloc == 'NEW': \n",
    "        #Append Previouse Trade\n",
    "        try:\n",
    "            df = pd.DataFrame(transactions, columns = ['Date', 'Time', 'Description', 'Fess & Commissions', 'Amount'])\n",
    "            openDate = df['Date'].iloc[0]\n",
    "            closeDate = df['Date'].iloc[-1]\n",
    "            openTime = df['Time'].iloc[0]\n",
    "            closeTime = df['Time'].iloc[-1]\n",
    "            description = df['Description'].iloc[0]\n",
    "            fc = sum(df['Fees & Commissions'])\n",
    "            grosspl = sum(df.Amount)\n",
    "            netpl = fc + grosspl\n",
    "            \n",
    "            thisTrade.append(openDate, closeDate, openTime, closeTime, description, fc, grosspl, netpl)\n",
    "        \n",
    "        \n",
    "        tradeLines.append(thisTrade) \n",
    "        \n",
    "        #Reset Variables\n",
    "        tradeCount += 1\n",
    "        thisTrade = []\n",
    "        transactions = []\n",
    "        \n",
    "        #Append new Trade identifiers\n",
    "        status, trader, tradeType, ticker, subtypes, notes = df.iloc[x]\n",
    "        thisTrade.append(trader, tradeType, ticker, subtypes, notes)\n",
    "        \n",
    "    else: \n",
    "        #Add transaction to 'transactions'. \n",
    "        status, date, time, description, amount, fc = df.iloc[x]\n",
    "        transaction = [date, time, description, fc, amount]\n",
    "        transactions.append(transaction)\n",
    "        \n",
    "tradeResults = pd.DataFrame(tradeLines, columns = ['Trader', 'Type', 'Ticker', 'Subtypes', 'Notes', 'Open Date', 'Close Date', \n",
    "                                                  'Open Time', 'Close Time', 'Description', 'Fees & Commissions', \n",
    "                                                  'Gross PL', 'Net PL'])\n",
    "print(tradeResults.head())\n",
    "        \n",
    "        \n",
    "        \n",
    "        \n",
    "        \n",
    "         \n",
    "    \n",
    "    "
   ]
  },
  {
   "cell_type": "code",
   "execution_count": 39,
   "metadata": {},
   "outputs": [
    {
     "name": "stdout",
     "output_type": "stream",
     "text": [
      "[2, 3, 4]\n"
     ]
    }
   ],
   "source": [
    "one = []\n",
    "two = 2\n",
    "three = 3\n",
    "four = 4\n",
    "appendList = [two, three, four]\n",
    "for x in appendList:\n",
    "    one.append(x)\n",
    "print(one)"
   ]
  },
  {
   "cell_type": "code",
   "execution_count": null,
   "metadata": {
    "collapsed": true
   },
   "outputs": [],
   "source": []
  }
 ],
 "metadata": {
  "kernelspec": {
   "display_name": "Python 3",
   "language": "python",
   "name": "python3"
  },
  "language_info": {
   "codemirror_mode": {
    "name": "ipython",
    "version": 3
   },
   "file_extension": ".py",
   "mimetype": "text/x-python",
   "name": "python",
   "nbconvert_exporter": "python",
   "pygments_lexer": "ipython3",
   "version": "3.6.1"
  }
 },
 "nbformat": 4,
 "nbformat_minor": 2
}
