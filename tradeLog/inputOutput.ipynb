{
 "cells": [
  {
   "cell_type": "code",
   "execution_count": null,
   "metadata": {
    "collapsed": true
   },
   "outputs": [],
   "source": [
    "import pandas as  pd\n",
    "\n",
    "class trade: \n",
    "    df = pd.DataFrame()\n",
    "    def manualInputs(trader, tradeType, tickers, subtypes)\n",
    "        trader = trader\n",
    "        tradeType = tradeType\n",
    "        tickers = tickers\n",
    "        subtypes = subtypes\n",
    "    def addLeg(pasted)\n",
    "        for x in pasted\n",
    "    \n"
   ]
  }
 ],
 "metadata": {
  "kernelspec": {
   "display_name": "Python 3",
   "language": "python",
   "name": "python3"
  },
  "language_info": {
   "codemirror_mode": {
    "name": "ipython",
    "version": 3
   },
   "file_extension": ".py",
   "mimetype": "text/x-python",
   "name": "python",
   "nbconvert_exporter": "python",
   "pygments_lexer": "ipython3",
   "version": "3.6.1"
  }
 },
 "nbformat": 4,
 "nbformat_minor": 2
}
