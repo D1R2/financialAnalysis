{
 "cells": [
  {
   "cell_type": "code",
   "execution_count": 1,
   "metadata": {},
   "outputs": [
    {
     "ename": "SyntaxError",
     "evalue": "invalid syntax (<ipython-input-1-bf616de3e050>, line 5)",
     "output_type": "error",
     "traceback": [
      "\u001b[1;36m  File \u001b[1;32m\"<ipython-input-1-bf616de3e050>\"\u001b[1;36m, line \u001b[1;32m5\u001b[0m\n\u001b[1;33m    def manualInputs(trader, tradeType, tickers, subtypes)\u001b[0m\n\u001b[1;37m                                                          ^\u001b[0m\n\u001b[1;31mSyntaxError\u001b[0m\u001b[1;31m:\u001b[0m invalid syntax\n"
     ]
    }
   ],
   "source": [
    "#Master Block\n",
    "import pandas as pd\n",
    "\n",
    "class trade: \n",
    "    legList = []\n",
    "    trader  = 'None'\n",
    "    tradeType = 'None'\n",
    "    tickers = 'None'\n",
    "    subtypes = 'None'\n",
    "    dateOpen = 'none'\n",
    "    dateClose = 'none' \n",
    "    timeOpen = 'none'\n",
    "    timeClose = 'none'\n",
    "    feesAndCommission = 'none'\n",
    "    grossProfit = 'none'\n",
    "    netProfit = 'none'\n",
    "    \n",
    "    \n",
    "    string = \"\"\"\"\"\"\n",
    "    def manualInputs(trader, tradeType, tickers, subtypes):\n",
    "        trader = trader\n",
    "        tradeType = tradeType\n",
    "        tickers = tickers\n",
    "        subtypes = subtypes\n",
    "        returnVars = [trader, tradeType, tickers, subtypes]\n",
    "        return returnVars\n",
    "    def addLegs(string)\n",
    "        lineSplit = string.split('\\n')\n",
    "        if lineSplit[-1] == \"\":\n",
    "            lineSplit = lineSplit[:-1]\n",
    "\n",
    "        for x in lineSplit:\n",
    "            tabSplit = x.split('\\t')\n",
    "            legList.append(tabSplit)\n",
    "        \n",
    "  \n"
   ]
  },
  {
   "cell_type": "code",
   "execution_count": 1,
   "metadata": {
    "collapsed": true
   },
   "outputs": [],
   "source": [
    "import sqlite3 \n",
    "import pandas as pd\n",
    "\n",
    "def close(self):\n",
    "    df = pd.DataFrame(legList)\n",
    "    db_conn = sqlite3.connect('fullTradesTest.db')\n",
    "    cursor = db_conn.cursor\n",
    "    \n",
    "    \n",
    "    db_conn.close\n",
    "\n"
   ]
  },
  {
   "cell_type": "code",
   "execution_count": 6,
   "metadata": {},
   "outputs": [
    {
     "name": "stdout",
     "output_type": "stream",
     "text": [
      "   0  1  2     3      4     5\n",
      "0  1  2  3  None   None  None\n",
      "1  4  5  6  None   None  None\n",
      "2  0  0  0    hi  there  poro\n"
     ]
    }
   ],
   "source": [
    "list1 = [1, 2, 3]\n",
    "list2 = [4, 5, 6]\n",
    "list4 = [0, 0, 0, 'hi', 'there', 'poro']\n",
    "list3 = [list1, list2, list4]\n",
    "df = pd.DataFrame(list3)\n",
    "print(df)"
   ]
  },
  {
   "cell_type": "code",
   "execution_count": 18,
   "metadata": {},
   "outputs": [
    {
     "ename": "SyntaxError",
     "evalue": "can't assign to literal (<ipython-input-18-c948cfcde167>, line 1)",
     "output_type": "error",
     "traceback": [
      "\u001b[1;36m  File \u001b[1;32m\"<ipython-input-18-c948cfcde167>\"\u001b[1;36m, line \u001b[1;32m1\u001b[0m\n\u001b[1;33m    1 = 'two'\u001b[0m\n\u001b[1;37m             ^\u001b[0m\n\u001b[1;31mSyntaxError\u001b[0m\u001b[1;31m:\u001b[0m can't assign to literal\n"
     ]
    }
   ],
   "source": [
    "1 = 'two'\n",
    "print(1)\n",
    "    "
   ]
  },
  {
   "cell_type": "code",
   "execution_count": 7,
   "metadata": {},
   "outputs": [
    {
     "name": "stdout",
     "output_type": "stream",
     "text": [
      "1\n"
     ]
    }
   ],
   "source": []
  },
  {
   "cell_type": "code",
   "execution_count": null,
   "metadata": {
    "collapsed": true
   },
   "outputs": [],
   "source": []
  }
 ],
 "metadata": {
  "kernelspec": {
   "display_name": "Python 3",
   "language": "python",
   "name": "python3"
  },
  "language_info": {
   "codemirror_mode": {
    "name": "ipython",
    "version": 3
   },
   "file_extension": ".py",
   "mimetype": "text/x-python",
   "name": "python",
   "nbconvert_exporter": "python",
   "pygments_lexer": "ipython3",
   "version": "3.6.1"
  }
 },
 "nbformat": 4,
 "nbformat_minor": 2
}
