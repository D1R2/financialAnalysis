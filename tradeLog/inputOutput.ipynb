{
 "cells": [
  {
   "cell_type": "code",
   "execution_count": 1,
   "metadata": {},
   "outputs": [
    {
     "ename": "SyntaxError",
     "evalue": "invalid syntax (<ipython-input-1-bf616de3e050>, line 5)",
     "output_type": "error",
     "traceback": [
      "\u001b[1;36m  File \u001b[1;32m\"<ipython-input-1-bf616de3e050>\"\u001b[1;36m, line \u001b[1;32m5\u001b[0m\n\u001b[1;33m    def manualInputs(trader, tradeType, tickers, subtypes)\u001b[0m\n\u001b[1;37m                                                          ^\u001b[0m\n\u001b[1;31mSyntaxError\u001b[0m\u001b[1;31m:\u001b[0m invalid syntax\n"
     ]
    }
   ],
   "source": [
    "import pandas as  pd\n",
    "\n",
    "class trade: \n",
    "    legList = []\n",
    "    string = \"\"\"\"\"\"\n",
    "    def manualInputs(trader, tradeType, tickers, subtypes)\n",
    "        trader = trader\n",
    "        tradeType = tradeType\n",
    "        tickers = tickers\n",
    "        subtypes = subtypes\n",
    "        returnVars = [trader, tradeType, tickers, subtypes, returnVars]\n",
    "    def addLeg(string)\n",
    "        lineSplit = string.split('\\n')\n",
    "        if lineSplit[-1] == \"\":\n",
    "            lineSplit = lineSplit[:-1]\n",
    "\n",
    "        for x in lineSplit:\n",
    "            tabSplit = x.split('\\t')\n",
    "            legList.append(tabSplit)\n",
    "        \n",
    "  \n"
   ]
  },
  {
   "cell_type": "code",
   "execution_count": 31,
   "metadata": {},
   "outputs": [
    {
     "name": "stdout",
     "output_type": "stream",
     "text": [
      "[['6/12/2017', '9:33:06', 'BOT +8 VERTICAL GOOG 100 16 JUN 17 935/937.5 CALL @1.15 ISE', '-0.52', '-18.95', '-920']]\n"
     ]
    }
   ],
   "source": [
    "import pandas as pd\n",
    "import numpy as np\n",
    "legList = []\n",
    "string = \"\"\"6/12/2017\t9:33:06\tBOT +8 VERTICAL GOOG 100 16 JUN 17 935/937.5 CALL @1.15 ISE\t-0.52\t-18.95\t-920\n",
    "\"\"\"\n",
    "\n",
    "lineSplit = string.split('\\n')\n",
    "if lineSplit[-1] == \"\":\n",
    "    lineSplit = lineSplit[:-1]\n",
    "\n",
    "for x in lineSplit:\n",
    "    tabSplit = x.split('\\t')\n",
    "    legList.append(tabSplit)\n",
    "print(legList)\n",
    "\n"
   ]
  },
  {
   "cell_type": "code",
   "execution_count": null,
   "metadata": {
    "collapsed": true
   },
   "outputs": [],
   "source": []
  }
 ],
 "metadata": {
  "kernelspec": {
   "display_name": "Python 3",
   "language": "python",
   "name": "python3"
  },
  "language_info": {
   "codemirror_mode": {
    "name": "ipython",
    "version": 3
   },
   "file_extension": ".py",
   "mimetype": "text/x-python",
   "name": "python",
   "nbconvert_exporter": "python",
   "pygments_lexer": "ipython3",
   "version": "3.6.1"
  }
 },
 "nbformat": 4,
 "nbformat_minor": 2
}
